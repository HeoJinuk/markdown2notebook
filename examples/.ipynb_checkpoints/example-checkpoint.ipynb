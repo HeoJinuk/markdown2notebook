{
 "cells": [
  {
   "cell_type": "markdown",
   "id": "99e52fb3",
   "metadata": {},
   "source": [
    "# Example Markdown File\n",
    "This is an example Markdown file to demonstrate the conversion to a Jupyter Notebook."
   ]
  },
  {
   "cell_type": "markdown",
   "id": "13aac4a7",
   "metadata": {},
   "source": [
    "## Introduction\n",
    "Markdown is a lightweight markup language that you can use to add formatting elements to plaintext documents."
   ]
  },
  {
   "cell_type": "markdown",
   "id": "39905704",
   "metadata": {},
   "source": [
    "## Code Example"
   ]
  },
  {
   "cell_type": "code",
   "execution_count": null,
   "id": "45079e49",
   "metadata": {},
   "outputs": [],
   "source": []
  },
  {
   "cell_type": "markdown",
   "id": "b5115aca",
   "metadata": {},
   "source": [
    "print(\"Hello, Jupyter Notebook!\")"
   ]
  },
  {
   "cell_type": "code",
   "execution_count": null,
   "id": "090dd7a2",
   "metadata": {},
   "outputs": [],
   "source": []
  },
  {
   "cell_type": "markdown",
   "id": "63ce213c",
   "metadata": {},
   "source": [
    "## List Example\n",
    "- Item 1\n",
    "- Item 2\n",
    "- Item 3"
   ]
  },
  {
   "cell_type": "markdown",
   "id": "825e53d9",
   "metadata": {},
   "source": [
    "## Conclusion\n",
    "This Markdown file will be converted into a Jupyter Notebook (`.ipynb`) with the script provided."
   ]
  }
 ],
 "metadata": {
  "kernelspec": {
   "display_name": "Python 3 (ipykernel)",
   "language": "python",
   "name": "python3"
  },
  "language_info": {
   "codemirror_mode": {
    "name": "ipython",
    "version": 3
   },
   "file_extension": ".py",
   "mimetype": "text/x-python",
   "name": "python",
   "nbconvert_exporter": "python",
   "pygments_lexer": "ipython3",
   "version": "3.8.13"
  }
 },
 "nbformat": 4,
 "nbformat_minor": 5
}
