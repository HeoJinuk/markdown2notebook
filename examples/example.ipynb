{
 "cells": [
  {
   "cell_type": "markdown",
   "id": "29acf200",
   "metadata": {},
   "source": [
    "# Example Markdown File"
   ]
  },
  {
   "cell_type": "markdown",
   "id": "965e9d27",
   "metadata": {},
   "source": [
    "This is an example Markdown file to demonstrate the conversion to a Jupyter Notebook."
   ]
  },
  {
   "cell_type": "markdown",
   "id": "2c206c75",
   "metadata": {},
   "source": [
    "## Introduction"
   ]
  },
  {
   "cell_type": "markdown",
   "id": "46f8d3be",
   "metadata": {},
   "source": [
    "Markdown is a lightweight markup language that you can use to add formatting elements to plaintext documents."
   ]
  },
  {
   "cell_type": "markdown",
   "id": "2b3201af",
   "metadata": {},
   "source": [
    "## Code Example"
   ]
  },
  {
   "cell_type": "code",
   "execution_count": null,
   "id": "35825e95",
   "metadata": {},
   "outputs": [],
   "source": [
    "print(\"Hello, Jupyter Notebook!\")"
   ]
  },
  {
   "cell_type": "markdown",
   "id": "d51e4bf1",
   "metadata": {},
   "source": [
    "## List Example"
   ]
  },
  {
   "cell_type": "markdown",
   "id": "15fadd3c",
   "metadata": {},
   "source": [
    "- Item 1\n",
    "- Item 2\n",
    "- Item 3"
   ]
  },
  {
   "cell_type": "markdown",
   "id": "1e410942",
   "metadata": {},
   "source": [
    "## Conclusion"
   ]
  },
  {
   "cell_type": "markdown",
   "id": "39ac322a",
   "metadata": {},
   "source": [
    "This Markdown file will be converted into a Jupyter Notebook (`.ipynb`) with the script provided."
   ]
  }
 ],
 "metadata": {},
 "nbformat": 4,
 "nbformat_minor": 5
}
